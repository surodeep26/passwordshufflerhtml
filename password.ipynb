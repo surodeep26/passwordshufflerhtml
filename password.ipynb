{
 "cells": [
  {
   "cell_type": "code",
   "execution_count": 18,
   "metadata": {},
   "outputs": [
    {
     "name": "stdout",
     "output_type": "stream",
     "text": [
      "Generated passwords/lion.html with the content: lion\n",
      "Generated passwords/elephant.html with the content: elephant\n",
      "Generated passwords/tiger.html with the content: tiger\n",
      "Generated passwords/giraffe.html with the content: giraffe\n",
      "Generated passwords/zebra.html with the content: zebra\n"
     ]
    }
   ],
   "source": [
    "import os\n",
    "for oldHTML in os.listdir(\"./passwords\"):\n",
    "    os.remove(oldHTML)\n",
    "# List of animals\n",
    "animals = [\"lion\", \"elephant\", \"tiger\", \"giraffe\", \"zebra\"]\n",
    "\n",
    "# Directory to save the HTML files\n",
    "directory = \"passwords\"\n",
    "\n",
    "# Create the directory if it doesn't exist\n",
    "if not os.path.exists(directory):\n",
    "    os.makedirs(directory)\n",
    "\n",
    "# Loop through the list and create an HTML file for each animal\n",
    "for i, animal in enumerate(animals):\n",
    "    # Create the HTML content\n",
    "    html_content = f\"\"\"\n",
    "    <!DOCTYPE html>\n",
    "    <html>\n",
    "    <head>\n",
    "        <title>{animal}</title>\n",
    "    </head>\n",
    "    <body>\n",
    "        <h1>password: {animal}</h1>\n",
    "    </body>\n",
    "    </html>\n",
    "    \"\"\"\n",
    "    # Define the filename and path\n",
    "    filename = f\"{animal.lower()}.html\"\n",
    "    filepath = os.path.join(directory, filename)\n",
    "    \n",
    "    # Write the HTML content to the file\n",
    "    with open(filepath, \"w\") as file:\n",
    "        file.write(html_content)\n",
    "\n",
    "    print(f\"Generated {filepath} with the content: {animal}\")\n"
   ]
  },
  {
   "cell_type": "code",
   "execution_count": 17,
   "metadata": {},
   "outputs": [
    {
     "name": "stdout",
     "output_type": "stream",
     "text": [
      "elephant.html\n",
      "zebra.html\n",
      "tiger.html\n",
      "giraffe.html\n",
      "lion.html\n"
     ]
    }
   ],
   "source": [
    "for oldHTML in os.listdir(\"./passwords\"):\n",
    "    print(oldHTML)\n",
    "    os.remove(os.path.join(\"./passwords\",oldHTML))"
   ]
  }
 ],
 "metadata": {
  "kernelspec": {
   "display_name": "Python 3",
   "language": "python",
   "name": "python3"
  },
  "language_info": {
   "codemirror_mode": {
    "name": "ipython",
    "version": 3
   },
   "file_extension": ".py",
   "mimetype": "text/x-python",
   "name": "python",
   "nbconvert_exporter": "python",
   "pygments_lexer": "ipython3",
   "version": "3.11.6"
  }
 },
 "nbformat": 4,
 "nbformat_minor": 2
}
